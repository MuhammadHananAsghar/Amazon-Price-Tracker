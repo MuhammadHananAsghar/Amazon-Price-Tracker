{
 "cells": [
  {
   "cell_type": "code",
   "execution_count": 67,
   "metadata": {},
   "outputs": [],
   "source": [
    "import requests\n",
    "from bs4 import BeautifulSoup\n",
    "import json"
   ]
  },
  {
   "cell_type": "code",
   "execution_count": 98,
   "metadata": {},
   "outputs": [],
   "source": [
    "# First to on this settings of gmail https://myaccount.google.com/u/1/lesssecureapps\n",
    "import smtplib, ssl\n",
    "def getProduct(url):\n",
    "    headers = {\n",
    "        'authority': 'www.amazon.com',\n",
    "        'pragma': 'no-cache',\n",
    "        'cache-control': 'no-cache',\n",
    "        'dnt': '1',\n",
    "        'upgrade-insecure-requests': '1',\n",
    "        'user-agent': 'Mozilla/5.0 (X11; CrOS x86_64 8172.45.0) AppleWebKit/537.36 (KHTML, like Gecko) Chrome/51.0.2704.64 Safari/537.36',\n",
    "        'accept': 'text/html,application/xhtml+xml,application/xml;q=0.9,image/webp,image/apng,*/*;q=0.8,application/signed-exchange;v=b3;q=0.9',\n",
    "        'sec-fetch-site': 'none',\n",
    "        'sec-fetch-mode': 'navigate',\n",
    "        'sec-fetch-dest': 'document',\n",
    "        'accept-language': 'en-GB,en-US;q=0.9,en;q=0.8',\n",
    "    }\n",
    "    r = requests.get(url, headers = headers)\n",
    "    html = r.content\n",
    "    soup = BeautifulSoup(html, \"lxml\")\n",
    "    title = soup.find(id=\"productTitle\").text.strip()\n",
    "    price = soup.find(id=\"priceblock_ourprice\").text.strip()\n",
    "    image = soup.find(id=\"landingImage\").get(\"data-a-dynamic-image\")\n",
    "    image = json.loads(image)\n",
    "    image = list(image.keys())[-1]\n",
    "    price = price.replace(\"$\",\"\")\n",
    "    if \",\" in price:\n",
    "        price = price.replace(\",\",\"\")\n",
    "    price = float(price)\n",
    "    return {\n",
    "        \"title\": title,\n",
    "        \"price\": price,\n",
    "        \"image\": image\n",
    "    }\n",
    "data = getProduct(\"https://www.amazon.com/dp/B0869JVMLY/ref=sspa_dk_detail_1?psc=1&pd_rd_i=B0869JVMLY&pd_rd_w=ZDEPU&pf_rd_p=f0355a48-7e73-489a-9590-564e12837b93&pd_rd_wg=VM1gX&pf_rd_r=DPMZCEYDMS2MXAWTWC4W&pd_rd_r=ddb8c6b9-88c6-42bf-87f0-f6dec9597fcb&spLa=ZW5jcnlwdGVkUXVhbGlmaWVyPUExN1dITlRJV0xHVEJJJmVuY3J5cHRlZElkPUEwMjE1ODUyQlZRR1hPT0JIOTVHJmVuY3J5cHRlZEFkSWQ9QTA4NDIwNzgxTzFJSjBBRDcyUlRVJndpZGdldE5hbWU9c3BfZGV0YWlsX3RoZW1hdGljJmFjdGlvbj1jbGlja1JlZGlyZWN0JmRvTm90TG9nQ2xpY2s9dHJ1ZQ==\")\n",
    "if data['price'] < 1200:\n",
    "    port = 587  # For starttls\n",
    "    smtp_server = \"smtp.gmail.com\"\n",
    "    sender_email = \"\"\n",
    "    receiver_email = \"\"\n",
    "    password = \"\"\n",
    "    message = f\"\"\"\\\n",
    "    Subject: Amazon Tracker By Muhammad Hanan Asghar\n",
    "\n",
    "    This is reminder that your Selected Product Price has Decreased.\"\"\"\n",
    "\n",
    "    context = ssl.create_default_context()\n",
    "    with smtplib.SMTP(smtp_server, port) as server:\n",
    "        server.ehlo()  # Can be omitted\n",
    "        server.starttls(context=context)\n",
    "        server.ehlo()  # Can be omitted\n",
    "        server.login(sender_email, password)\n",
    "        server.sendmail(sender_email, receiver_email, message)\n"
   ]
  },
  {
   "cell_type": "code",
   "execution_count": null,
   "metadata": {},
   "outputs": [],
   "source": []
  }
 ],
 "metadata": {
  "kernelspec": {
   "display_name": "Python 3",
   "language": "python",
   "name": "python3"
  },
  "language_info": {
   "codemirror_mode": {
    "name": "ipython",
    "version": 3
   },
   "file_extension": ".py",
   "mimetype": "text/x-python",
   "name": "python",
   "nbconvert_exporter": "python",
   "pygments_lexer": "ipython3",
   "version": "3.8.2"
  }
 },
 "nbformat": 4,
 "nbformat_minor": 4
}
